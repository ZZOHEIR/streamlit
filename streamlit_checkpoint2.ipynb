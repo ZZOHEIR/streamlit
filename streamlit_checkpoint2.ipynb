{
 "cells": [
  {
   "cell_type": "code",
   "execution_count": 32,
   "metadata": {},
   "outputs": [],
   "source": [
    "import streamlit as st\n",
    "import pandas as pd\n",
    "import numpy as np\n",
    "from  ydata_profiling import ProfileReport\n",
    "from plotly.subplots import make_subplots\n",
    "import plotly.graph_objects as go\n",
    "import seaborn as sns \n",
    "import matplotlib.pyplot as plt\n",
    "from sklearn.preprocessing import LabelEncoder\n",
    "\n",
    "from sklearn.metrics import confusion_matrix\n",
    "from sklearn.metrics import accuracy_score, precision_score, recall_score, f1_score\n",
    "from scipy import stats\n",
    "import plotly.express as px\n",
    "from sklearn.model_selection import train_test_split, GridSearchCV\n",
    "\n",
    "from sklearn.neighbors import KNeighborsClassifier \n",
    "from sklearn.tree import DecisionTreeClassifier\n",
    "from sklearn.ensemble import RandomForestClassifier\n"
   ]
  },
  {
   "cell_type": "code",
   "execution_count": 3,
   "metadata": {},
   "outputs": [],
   "source": [
    "df = pd.read_csv(r'C:\\Users\\Hp\\Desktop\\dataset\\Streamlit\\Financial_inclusion_dataset.csv')"
   ]
  },
  {
   "cell_type": "code",
   "execution_count": null,
   "metadata": {},
   "outputs": [],
   "source": [
    "df.head()"
   ]
  },
  {
   "cell_type": "code",
   "execution_count": null,
   "metadata": {},
   "outputs": [],
   "source": [
    "df.info()"
   ]
  },
  {
   "cell_type": "code",
   "execution_count": null,
   "metadata": {},
   "outputs": [],
   "source": [
    "report_Financial_inclusion = ProfileReport(df, title = 'Financial_inclusion_datas')\n",
    "report_Financial_inclusion"
   ]
  },
  {
   "cell_type": "code",
   "execution_count": null,
   "metadata": {},
   "outputs": [],
   "source": [
    "df.isnull().sum()"
   ]
  },
  {
   "cell_type": "code",
   "execution_count": null,
   "metadata": {},
   "outputs": [],
   "source": [
    "df.duplicated().sum()"
   ]
  },
  {
   "cell_type": "code",
   "execution_count": null,
   "metadata": {},
   "outputs": [],
   "source": [
    "plot = make_subplots"
   ]
  },
  {
   "cell_type": "code",
   "execution_count": null,
   "metadata": {},
   "outputs": [],
   "source": [
    "def Plots(df) :\n",
    "    figure = make_subplots(rows=4, cols=4)\n",
    "    for i, column in enumerate(df.columns) :\n",
    "        row = (i//4) + 1\n",
    "        col = (i%4) + 1\n",
    "        figure.add_trace(go.Box(y=df[column], name= column),row = row, col = col)\n",
    "    figure.update_layout(width = 1000, showlegend = False)\n",
    "    figure.show()\n",
    "\n",
    "Plots(df)\n",
    " \n",
    "\n"
   ]
  },
  {
   "cell_type": "code",
   "execution_count": 19,
   "metadata": {},
   "outputs": [],
   "source": [
    "le = LabelEncoder()"
   ]
  },
  {
   "cell_type": "code",
   "execution_count": 27,
   "metadata": {},
   "outputs": [],
   "source": [
    "df_encoded = df.copy()"
   ]
  },
  {
   "cell_type": "code",
   "execution_count": 28,
   "metadata": {},
   "outputs": [],
   "source": [
    "df_encoded['country'] = le.fit_transform(df_encoded['country'])\n",
    "df_encoded['uniqueid'] = le.fit_transform(df_encoded['uniqueid'])\n",
    "df_encoded['bank_account'] = le.fit_transform(df_encoded['bank_account'])\n",
    "df_encoded['location_type'] = le.fit_transform(df_encoded['location_type'])\n",
    "df_encoded['cellphone_access'] = le.fit_transform(df_encoded['cellphone_access'])\n",
    "df_encoded['gender_of_respondent'] = le.fit_transform(df_encoded['gender_of_respondent'])\n",
    "df_encoded['relationship_with_head'] = le.fit_transform(df_encoded['relationship_with_head'])\n",
    "df_encoded['marital_status'] = le.fit_transform(df_encoded['marital_status'])\n",
    "df_encoded['education_level'] = le.fit_transform(df_encoded['education_level'])\n",
    "df_encoded['job_type'] = le.fit_transform(df_encoded['job_type'])"
   ]
  },
  {
   "cell_type": "code",
   "execution_count": null,
   "metadata": {},
   "outputs": [],
   "source": [
    "# encode data :\n",
    "df_encoded.info()"
   ]
  },
  {
   "cell_type": "code",
   "execution_count": null,
   "metadata": {},
   "outputs": [],
   "source": [
    "#Heatmap to check correlations \n",
    "correlation = sns.heatmap(df_encoded.corr(), annot=True, cmap='coolwarm')\n",
    "correlation"
   ]
  },
  {
   "cell_type": "code",
   "execution_count": null,
   "metadata": {},
   "outputs": [],
   "source": [
    "# Z-scores for each feature\n",
    "df_z_scores = df_encoded.apply(stats.zscore)\n",
    "\n",
    "# Identify outliers (Z-score > 3 or < -3)\n",
    "outliers = (df_z_scores > 3) | (df_z_scores < -3)\n",
    "#store outliers in df_outliers\n",
    "df_outliers = df_z_scores[outliers.any(axis=1)]\n",
    "#drop outliers from data with ~ operator \n",
    "df_cleaned = df_z_scores[~outliers.any(axis=1)]\n",
    "\n",
    "df_cleaned.info()"
   ]
  },
  {
   "cell_type": "code",
   "execution_count": null,
   "metadata": {},
   "outputs": [],
   "source": [
    "def Plots(df_cleaned) :\n",
    "    figure = make_subplots(rows=4, cols=4)\n",
    "    for i, column in enumerate(df_cleaned.columns) :\n",
    "        row = (i//4) + 1\n",
    "        col = (i%4) + 1\n",
    "        figure.add_trace(go.Box(y=df_cleaned[column], name= column),row = row, col = col)\n",
    "    figure.update_layout(width = 1000, showlegend = False)\n",
    "    figure.show()\n",
    "\n",
    "Plots(df_cleaned)\n",
    " "
   ]
  },
  {
   "cell_type": "code",
   "execution_count": null,
   "metadata": {},
   "outputs": [],
   "source": [
    "#  histogram :\n",
    "def create_histograms(df_cleaned, columns, nbins=10, title='Financial inclusion african countries'):\n",
    "    rows = (len(columns) + 2) // 3\n",
    "    fig = make_subplots(rows=rows, cols=3, subplot_titles=columns)\n",
    "    for i, column in enumerate(columns):\n",
    "        fig_hist = px.histogram(df, x=column, nbins=nbins)\n",
    "        row = (i // 3) + 1\n",
    "        col = (i % 3) + 1\n",
    "        fig.add_trace(fig_hist['data'][0], row=row, col=col)\n",
    "    fig.update_layout(height=rows*300, title_text=title, showlegend=False)\n",
    "    \n",
    "    fig.show()\n",
    "\n",
    "create_histograms(df_cleaned, columns=df_cleaned.columns, nbins=5)"
   ]
  },
  {
   "cell_type": "markdown",
   "metadata": {},
   "source": [
    "**Data exploration train and test a machine learning classifier**"
   ]
  },
  {
   "cell_type": "code",
   "execution_count": null,
   "metadata": {},
   "outputs": [],
   "source": [
    "# with df_encoded : \n",
    "X = df_encoded.drop(columns=['bank_account'])\n",
    "y = df_encoded['bank_account']\n",
    "X_train, X_test, y_train,y_test = train_test_split(X,y, test_size=0.2, random_state=42)\n",
    "X_train.shape, X_test.shape, y_train.shape, y_test.shape"
   ]
  },
  {
   "cell_type": "markdown",
   "metadata": {},
   "source": [
    "**KNN**"
   ]
  },
  {
   "cell_type": "code",
   "execution_count": null,
   "metadata": {},
   "outputs": [],
   "source": [
    "knn = KNeighborsClassifier(n_neighbors=5, metric='euclidean')\n",
    "knn.fit(X_train,y_train)"
   ]
  },
  {
   "cell_type": "code",
   "execution_count": 50,
   "metadata": {},
   "outputs": [],
   "source": [
    "y_pred = knn.predict(X_test)"
   ]
  },
  {
   "cell_type": "code",
   "execution_count": null,
   "metadata": {},
   "outputs": [],
   "source": [
    "accuracy_knn = accuracy_score(y_test, y_pred) \n",
    "precision_knn = precision_score(y_test, y_pred) \n",
    "recall_knn = recall_score(y_test, y_pred) \n",
    "f1_knn = f1_score(y_test, y_pred) \n",
    "conf_matrix_knn = confusion_matrix(y_test, y_pred)\n",
    "print(f'accuracy : {accuracy_knn}')\n",
    "print(f'Precision : {precision_knn}')\n",
    "print(f'recall : {recall_knn}')\n",
    "print(f'f1 : {f1_knn}')\n",
    "print(f'Confusion Matrix {conf_matrix_knn}')"
   ]
  },
  {
   "cell_type": "code",
   "execution_count": null,
   "metadata": {},
   "outputs": [],
   "source": [
    "sns.heatmap(conf_matrix_knn, annot=True)"
   ]
  },
  {
   "cell_type": "markdown",
   "metadata": {},
   "source": [
    "**Decision Tree**"
   ]
  },
  {
   "cell_type": "code",
   "execution_count": null,
   "metadata": {},
   "outputs": [],
   "source": [
    "X1 = df_encoded.drop(columns=['bank_account'])\n",
    "y1 = df_encoded['bank_account']\n",
    "X1_train, X1_test, y1_train,y1_test = train_test_split(X1,y1, test_size=0.2, random_state=42)\n",
    "X1_train.shape, X1_test.shape, y1_train.shape, y1_test.shape"
   ]
  },
  {
   "cell_type": "code",
   "execution_count": null,
   "metadata": {},
   "outputs": [],
   "source": [
    "decision_tree = DecisionTreeClassifier(max_depth=10)\n",
    "decision_tree.fit(X1_train,y1_train)"
   ]
  },
  {
   "cell_type": "code",
   "execution_count": 54,
   "metadata": {},
   "outputs": [],
   "source": [
    "y1_pred = decision_tree.predict(X1_test)"
   ]
  },
  {
   "cell_type": "code",
   "execution_count": null,
   "metadata": {},
   "outputs": [],
   "source": [
    "accuracy1_tree = accuracy_score(y1_test, y1_pred) \n",
    "precision_tree = precision_score(y1_test, y1_pred) \n",
    "recall_tree = recall_score(y1_test, y1_pred) \n",
    "f1_tree = f1_score(y1_test, y1_pred) \n",
    "conf_matrix_tree = confusion_matrix(y1_test, y1_pred)\n",
    "print(f'accuracy1 : {accuracy1_tree}')\n",
    "print(f'Precision : {precision_tree}')\n",
    "print(f'recall : {recall_tree}')\n",
    "print(f'f2 : {f1_tree}')\n",
    "print(f'Confusion Matrix {conf_matrix_tree}')"
   ]
  },
  {
   "cell_type": "code",
   "execution_count": null,
   "metadata": {},
   "outputs": [],
   "source": [
    "sns.heatmap(conf_matrix_tree, annot=True)"
   ]
  },
  {
   "cell_type": "markdown",
   "metadata": {},
   "source": [
    "**Random Forest**"
   ]
  },
  {
   "cell_type": "code",
   "execution_count": null,
   "metadata": {},
   "outputs": [],
   "source": [
    "X2= df_encoded.drop(columns=['bank_account'])\n",
    "y2 = df_encoded['bank_account']\n",
    "X2_train, X2_test, y2_train,y2_test = train_test_split(X2,y2, test_size=0.2, random_state=42)\n",
    "X2_train.shape, X2_test.shape, y2_train.shape, y2_test.shape"
   ]
  },
  {
   "cell_type": "code",
   "execution_count": null,
   "metadata": {},
   "outputs": [],
   "source": [
    "random_forest = RandomForestClassifier(n_estimators=10)\n",
    "random_forest.fit(X2_train, y2_train)"
   ]
  },
  {
   "cell_type": "code",
   "execution_count": 65,
   "metadata": {},
   "outputs": [],
   "source": [
    "y2_pred = random_forest.predict(X2_test)"
   ]
  },
  {
   "cell_type": "code",
   "execution_count": null,
   "metadata": {},
   "outputs": [],
   "source": [
    "accuracy_forest = accuracy_score(y2_test, y2_pred) \n",
    "precision_forest = precision_score(y2_test, y2_pred) \n",
    "recall_forest = recall_score(y2_test, y2_pred) \n",
    "f1_forest = f1_score(y2_test, y2_pred) \n",
    "conf_matrix_forest = confusion_matrix(y2_test, y2_pred)\n",
    "print(f'accuracy : {accuracy_forest}')\n",
    "print(f'Precision : {precision_forest}')\n",
    "print(f'recall : {recall_forest}')\n",
    "print(f'f2 : {f1_forest}')\n",
    "print(f'Confusion Matrix {conf_matrix_forest}')"
   ]
  },
  {
   "cell_type": "code",
   "execution_count": null,
   "metadata": {},
   "outputs": [],
   "source": [
    "sns.heatmap(conf_matrix_forest, annot=True)"
   ]
  },
  {
   "cell_type": "markdown",
   "metadata": {},
   "source": [
    "**Grid Search**"
   ]
  },
  {
   "cell_type": "code",
   "execution_count": null,
   "metadata": {},
   "outputs": [],
   "source": [
    "X3= df_encoded.drop(columns=['bank_account'])\n",
    "y3 = df_encoded['bank_account']\n",
    "X3_train, X3_test, y3_train,y3_test = train_test_split(X3,y3, test_size=0.2, random_state=42)\n",
    "X3_train.shape, X3_test.shape, y3_train.shape, y3_test.shape"
   ]
  },
  {
   "cell_type": "code",
   "execution_count": 69,
   "metadata": {},
   "outputs": [],
   "source": [
    "model_grid_search = DecisionTreeClassifier()\n",
    "param_grid = {'criterion': ['gini', 'entropy', 'log_loss'],\n",
    "              'max_depth' : [None,10,20,30],\n",
    "              'min_samples_split' : [2,5,10]}\n",
    "grid_search = GridSearchCV(estimator= model_grid_search, param_grid=param_grid, cv=5, scoring='accuracy')"
   ]
  },
  {
   "cell_type": "code",
   "execution_count": 70,
   "metadata": {},
   "outputs": [],
   "source": [
    "y_pred3 = grid_search.fit(X3_train, y3_train)"
   ]
  },
  {
   "cell_type": "code",
   "execution_count": null,
   "metadata": {},
   "outputs": [],
   "source": [
    "best_params = grid_search.best_params_ \n",
    "best_score = grid_search.best_score_ \n",
    "print(\"Best Parameters:\", best_params) \n",
    "print(\"Best Cross-Validation Accuracy:\", best_score)"
   ]
  }
 ],
 "metadata": {
  "kernelspec": {
   "display_name": ".venv",
   "language": "python",
   "name": "python3"
  },
  "language_info": {
   "codemirror_mode": {
    "name": "ipython",
    "version": 3
   },
   "file_extension": ".py",
   "mimetype": "text/x-python",
   "name": "python",
   "nbconvert_exporter": "python",
   "pygments_lexer": "ipython3",
   "version": "3.9.6"
  }
 },
 "nbformat": 4,
 "nbformat_minor": 2
}
